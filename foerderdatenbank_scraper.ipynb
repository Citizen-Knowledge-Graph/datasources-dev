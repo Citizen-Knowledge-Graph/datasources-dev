{
 "cells": [
  {
   "cell_type": "code",
   "execution_count": null,
   "metadata": {},
   "outputs": [],
   "source": [
    "from time import sleep\n",
    "import pandas as pd\n",
    "from tqdm import tqdm\n",
    "from scraper import get_program_links\n",
    "from scraper import extract_program_details\n",
    "\n",
    "\n",
    "# Base URL to handle relative links\n",
    "BASE_URL = \"https://www.foerderdatenbank.de/\""
   ]
  },
  {
   "cell_type": "code",
   "execution_count": null,
   "metadata": {},
   "outputs": [],
   "source": [
    "start_url = \"https://www.foerderdatenbank.de/SiteGlobals/FDB/Forms/Suche/Foederprogrammsuche_Formular.html?input_=23adddb0-dcf7-4e32-96f5-93aec5db2716&submit=Suchen&resourceId=0065e6ec-5c0a-4678-b503-b7e7ec435dfd&filterCategories=FundingProgram&pageLocale=de\"\n",
    "program_links = get_program_links(url=start_url, BASE_URL=BASE_URL)\n",
    "\n",
    "# Print the collected links\n",
    "for link in program_links:\n",
    "    print(link)"
   ]
  },
  {
   "cell_type": "code",
   "execution_count": null,
   "metadata": {},
   "outputs": [],
   "source": [
    "program_details = {}\n",
    "for link in tqdm(program_links[:100]):\n",
    "    program_details[link] = extract_program_details(url=link)\n",
    "    sleep(1)  # Be nice to the server"
   ]
  },
  {
   "cell_type": "code",
   "execution_count": null,
   "metadata": {},
   "outputs": [],
   "source": [
    "funding_programs = pd.DataFrame.from_dict(program_details, orient='index')"
   ]
  },
  {
   "cell_type": "code",
   "execution_count": null,
   "metadata": {},
   "outputs": [],
   "source": [
    "funding_programs.to_csv(\"data/funding_programs.csv\", index_label=\"url\")"
   ]
  }
 ],
 "metadata": {
  "kernelspec": {
   "display_name": "foerderprogramme",
   "language": "python",
   "name": "python3"
  },
  "language_info": {
   "codemirror_mode": {
    "name": "ipython",
    "version": 3
   },
   "file_extension": ".py",
   "mimetype": "text/x-python",
   "name": "python",
   "nbconvert_exporter": "python",
   "pygments_lexer": "ipython3",
   "version": "3.10.11"
  }
 },
 "nbformat": 4,
 "nbformat_minor": 2
}
