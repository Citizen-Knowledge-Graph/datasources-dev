{
 "cells": [
  {
   "cell_type": "code",
   "execution_count": null,
   "metadata": {},
   "outputs": [],
   "source": [
    "import requests\n",
    "import xmltodict\n",
    "from tqdm import tqdm\n",
    "from scraper import extract_program_details\n",
    "from time import sleep\n",
    "import pandas as pd"
   ]
  },
  {
   "cell_type": "code",
   "execution_count": null,
   "metadata": {},
   "outputs": [],
   "source": [
    "RSS_FEED_URL = \"https://www.foerderdatenbank.de/FDB/DE/Service/RSS/Functions/foerderprogram_rssnewsfeed.xml\""
   ]
  },
  {
   "cell_type": "code",
   "execution_count": null,
   "metadata": {},
   "outputs": [],
   "source": [
    "response = requests.get(RSS_FEED_URL)\n",
    "rss_feed_xml = xmltodict.parse(response.content)\n",
    "entries = rss_feed_xml[\"rss\"][\"channel\"][\"item\"]\n",
    "program_links = [entry[\"link\"] for entry in entries]"
   ]
  },
  {
   "cell_type": "code",
   "execution_count": null,
   "metadata": {},
   "outputs": [],
   "source": [
    "program_details = {}\n",
    "for link in tqdm(program_links[:100]):\n",
    "    program_details[link] = extract_program_details(url=link)\n",
    "    sleep(1)  # Be nice to the server"
   ]
  },
  {
   "cell_type": "code",
   "execution_count": null,
   "metadata": {},
   "outputs": [],
   "source": [
    "funding_programs = pd.DataFrame.from_dict(program_details, orient='index')\n",
    "funding_programs.to_csv(\"data/funding_programs_from_rss_feed.csv\", index_label=\"url\")"
   ]
  }
 ],
 "metadata": {
  "kernelspec": {
   "display_name": "Python 3",
   "language": "python",
   "name": "python3"
  },
  "language_info": {
   "codemirror_mode": {
    "name": "ipython",
    "version": 3
   },
   "file_extension": ".py",
   "mimetype": "text/x-python",
   "name": "python",
   "nbconvert_exporter": "python",
   "pygments_lexer": "ipython3",
   "version": "3.12.0"
  }
 },
 "nbformat": 4,
 "nbformat_minor": 2
}
